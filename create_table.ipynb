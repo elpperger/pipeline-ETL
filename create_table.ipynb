{
 "cells": [
  {
   "cell_type": "markdown",
   "metadata": {},
   "source": [
    "1º passo: Código Python para criar uma planilha de Excel com 10 clientes fictícios. Utilizando a biblioteca pandas e a openpyxl, que é uma biblioteca necessária para lidar com arquivos Excel (xlsx)"
   ]
  },
  {
   "cell_type": "code",
   "execution_count": 1,
   "metadata": {},
   "outputs": [],
   "source": [
    "# Importando a biblioteca pandas\n",
    "import pandas as pd"
   ]
  },
  {
   "cell_type": "code",
   "execution_count": 2,
   "metadata": {},
   "outputs": [],
   "source": [
    "# Importando a biblioteca random\n",
    "import random"
   ]
  },
  {
   "cell_type": "code",
   "execution_count": 3,
   "metadata": {},
   "outputs": [],
   "source": [
    "# Criando clientes fictícios contendo id, nome e email\n",
    "dados_clientes = {\n",
    "    'ID': [1, 2, 3, 4, 5, 6, 7, 8, 9, 10],\n",
    "    'Nome': ['João', 'Pedro', 'Thomé', 'Isaías', 'Mateus', 'André', 'Lucas', 'Marcos', 'Simão', 'Zacarias'],\n",
    "    'Email': ['joao@email.com', 'pedro@email.com', 'thome@email.com', 'isaias@email.com', 'mateus@email.com', 'andre@email.com', 'lucas@email.com', 'marcos@email.com', 'simao@email.com', 'zacarias@email.com']\n",
    "}"
   ]
  },
  {
   "cell_type": "code",
   "execution_count": 4,
   "metadata": {},
   "outputs": [],
   "source": [
    "# Adicionando gastos mensais fictícios para cada cliente (valores aleatórios entre 800 e 1200)\n",
    "for mes in range(1, 7):  # 6 meses\n",
    "    dados_clientes[f'Gasto_Mes_{mes}'] = [round(random.uniform(800, 1200), 2) for _ in range(10)]\n"
   ]
  },
  {
   "cell_type": "code",
   "execution_count": 5,
   "metadata": {},
   "outputs": [],
   "source": [
    "# Criando um DataFrame com os dados dos clientes\n",
    "df = pd.DataFrame(dados_clientes)"
   ]
  },
  {
   "cell_type": "code",
   "execution_count": 6,
   "metadata": {},
   "outputs": [],
   "source": [
    "# Salvando o DataFrame em um arquivo Excel\n",
    "nome_arquivo = 'clientes_bancoXPTO.xlsx'\n",
    "df.to_excel(nome_arquivo, index=False)\n"
   ]
  },
  {
   "cell_type": "code",
   "execution_count": 7,
   "metadata": {},
   "outputs": [
    {
     "name": "stdout",
     "output_type": "stream",
     "text": [
      "Planilha Excel com os dados dos clientes foi criada: clientes_bancoXPTO.xlsx\n"
     ]
    }
   ],
   "source": [
    "# Exibindo a saída\n",
    "print(f'Planilha Excel com os dados dos clientes foi criada: {nome_arquivo}')"
   ]
  },
  {
   "cell_type": "markdown",
   "metadata": {},
   "source": [
    "2º passo: Criar um pipeline ETL em Python para avaliar os gastos em um período de 6 meses dos clientes do Banco XPTO e enviar e-mails de promoções com base nesses gastos. Caso o valor gasto mensal seja menor que R$ 1000.00 em cada mês, criaremos uma mensagem para ser enviada por email de promoções de lojas de produtos parceiras do banco.\n",
    "Utilizaremos as bibliotecas pandas e smtplib e o módulo email.message"
   ]
  },
  {
   "cell_type": "code",
   "execution_count": 8,
   "metadata": {},
   "outputs": [],
   "source": [
    "# Importando a biblioteca smtplib - simple mail transfer protocol\n",
    "import smtplib"
   ]
  },
  {
   "cell_type": "code",
   "execution_count": 9,
   "metadata": {},
   "outputs": [],
   "source": [
    "# Importando o módulo email.message\n",
    "from email.message import EmailMessage"
   ]
  },
  {
   "cell_type": "code",
   "execution_count": 10,
   "metadata": {},
   "outputs": [],
   "source": [
    "# Função para extrair dados da planilha Excel\n",
    "def extrair_dados_excel(file_path):\n",
    "    df = pd.read_excel(file_path)\n",
    "    return df"
   ]
  },
  {
   "cell_type": "code",
   "execution_count": 12,
   "metadata": {},
   "outputs": [
    {
     "name": "stdout",
     "output_type": "stream",
     "text": [
      "E-mail enviado para edinhopontes@live.com\n",
      "E-mail enviado para pedro@email.com\n",
      "E-mail enviado para thome@email.com\n",
      "E-mail enviado para isaias@email.com\n",
      "E-mail enviado para mateus@email.com\n",
      "E-mail enviado para andre@email.com\n",
      "E-mail enviado para lucas@email.com\n",
      "E-mail enviado para marcos@email.com\n",
      "E-mail enviado para simao@email.com\n"
     ]
    }
   ],
   "source": [
    "# Função para avaliar os gastos mensais de cada cliente e enviar e-mails de promoções, se necessário\n",
    "def avaliar_gastos_e_enviar_email(clientes):\n",
    "    for _, cliente in clientes.iterrows():\n",
    "        cliente_id = cliente['ID']\n",
    "        nome_cliente = cliente['Nome']\n",
    "        \n",
    "        # Obter os gastos mensais do cliente\n",
    "        gastos_mensais = obter_gastos_mensais(cliente_id)\n",
    "        \n",
    "        if gastos_mensais is not None:\n",
    "            # Verifique se algum dos gastos mensais é menor que R$ 1000.00\n",
    "            if any(gasto < 1000.0 for gasto in gastos_mensais):\n",
    "                # Crie uma mensagem de e-mail com promoções\n",
    "                mensagem = EmailMessage()\n",
    "                mensagem['From'] = 'nome@email.com'  # Substitua pelo seu e-mail\n",
    "                mensagem['To'] = cliente['Email']\n",
    "                mensagem['Subject'] = 'Aproveite as Promoções Especiais'\n",
    "                \n",
    "                # Corpo do e-mail\n",
    "                corpo_email = f\"Olá {nome_cliente}, confira nossas promoções em lojas parceiras do Banco XPTO!\"\n",
    "                mensagem.set_content(corpo_email)\n",
    "                \n",
    "                # Envie o e-mail\n",
    "                enviar_email(mensagem)\n",
    "\n",
    "# Função para obter os gastos mensais do cliente a partir da planilha Excel\n",
    "def obter_gastos_mensais(cliente_id):\n",
    "    # Carregue a planilha Excel com os dados dos clientes e gastos mensais\n",
    "    excel_file_path = 'clientes_bancoXPTO.xlsx'\n",
    "    df = pd.read_excel(excel_file_path)\n",
    "\n",
    "    # Localize o cliente com o ID fornecido\n",
    "    cliente = df[df['ID'] == cliente_id]\n",
    "\n",
    "    # Verifique se o cliente foi encontrado\n",
    "    if len(cliente) == 1:\n",
    "        # Obtenha os gastos mensais do cliente a partir das colunas Gasto_Mes_1 a Gasto_Mes_6\n",
    "        gastos_mensais = [cliente[f'Gasto_Mes_{mes}'].values[0] for mes in range(1, 7)]\n",
    "        return gastos_mensais\n",
    "    else:\n",
    "        print(f'Cliente com ID {cliente_id} não encontrado.')\n",
    "        return None\n",
    "\n",
    "# Função para enviar e-mails\n",
    "def enviar_email(mensagem):\n",
    "    # Configurações do servidor SMTP (neste exemplo, usei o Gmail)\n",
    "    smtp_server = 'smtp.gmail.com'\n",
    "    smtp_port = 587\n",
    "    email_rem = 'nome@email.com'  # Substitua pelo seu e-mail\n",
    "    senha = 'senhaGerada'  # Substitua pela senha gerada pelo Gmail em \"Senhas de app\"\n",
    "\n",
    "    # Conectar-se ao servidor SMTP e enviar o e-mail\n",
    "    try:\n",
    "        server = smtplib.SMTP(smtp_server, smtp_port)\n",
    "        server.starttls()\n",
    "        server.login(email_rem, senha)\n",
    "        server.send_message(mensagem)\n",
    "        server.quit()\n",
    "        print(f'E-mail enviado para {mensagem[\"To\"]}')\n",
    "    except Exception as e:\n",
    "        print(f'Erro ao enviar e-mail para {mensagem[\"To\"]}: {str(e)}')\n",
    "\n",
    "if __name__ == '__main__':\n",
    "    # Caminho para o arquivo Excel com os dados dos clientes\n",
    "    excel_file_path = 'clientes_santander.xlsx'\n",
    "    \n",
    "    # Extrair dados da planilha Excel\n",
    "    dados_clientes = extrair_dados_excel(excel_file_path)\n",
    "    \n",
    "    # Avaliar os gastos e enviar e-mails de promoções\n",
    "    avaliar_gastos_e_enviar_email(dados_clientes)"
   ]
  }
 ],
 "metadata": {
  "kernelspec": {
   "display_name": "Python 3",
   "language": "python",
   "name": "python3"
  },
  "language_info": {
   "codemirror_mode": {
    "name": "ipython",
    "version": 3
   },
   "file_extension": ".py",
   "mimetype": "text/x-python",
   "name": "python",
   "nbconvert_exporter": "python",
   "pygments_lexer": "ipython3",
   "version": "3.8.10"
  },
  "orig_nbformat": 4
 },
 "nbformat": 4,
 "nbformat_minor": 2
}
